{
 "cells": [
  {
   "cell_type": "markdown",
   "metadata": {},
   "source": [
    "# Algorithmic Trading using Technical Analysis\n",
    "by Chee-Foong\n",
    "\n",
    "## Summary\n",
    "This analysis attempts to build a machine learning model to generate buy/sell trading signals of an investible asset based on technical indicators like momentum, volatility, trends, etc.  \n",
    "\n",
    "A couple of machine learning models are built.  Random Forest, LightLGM, XGBoost to name a few and finally using crowd wisdom VotingClassifer to consolidate all the trading signals.\n",
    "\n",
    "Each model is trained, cross validated and tuned using historical data before 1 Jan 2020 and then forward tested on unseen data after 1 Jan 2020.  Trading performance is shown at the end of this analysis.\n",
    "\n",
    "## Trading Instrument\n",
    "Cryptocurrency BTCUSD is the trading instrument picked for this analysis.\n",
    "\n",
    "## Data\n",
    "*To register your own API key to assess the Binance API.*  \n",
    "\n",
    "1-min OHLC prices to be downloaded using Binance API.  Prices will be resampled at 15-min intervals for model training.\n",
    "\n",
    "## Machine Learning\n",
    "### Multiclassification Models\n",
    "1. Random Forest\n",
    "2. LightGBM\n",
    "3. XGBoost\n",
    "4. Gradient Boosting Trees\n",
    "5. Voting Classifier\n",
    "\n",
    "### Features\n",
    "1. Technical Indicators\n",
    "2. Candlestick Patterns\n",
    "3. Historical Return\n",
    "\n",
    "### Target Label\n",
    "Next hourly return broken down into 3 buckets:\n",
    "1. **Red**: Next Hourly Return < -0.015\n",
    "2. **Yellow**: Next Hourly Return between -0.015 to 0.015\n",
    "3. **Green**: Next Hourly Return > 0.015\n",
    "\n",
    "## Trading Strategy\n",
    "The model predicts with probability where the next hourly return will be one of the 3 possible targets: Green, Yellow and Red.  Under unbiased random sampling, each target should have a probability of 33.33%.  One can consider taking a trade when the model predicts with a probability greater than 33.33%.\n",
    "\n",
    "Hence,\n",
    "1. Trade the instrument when the model predicts with probability of at least 45%.  **Green** to go long and **Red** to go short.\n",
    "2. Hold and close the position after exactly 1 hour.\n",
    "\n",
    "## Forward Testing\n",
    "Trading strategy testing on unseen forward data.  Performance of each trade is consolidated and measured against a benchmark which is the performance of the trading instrument over the same period.\n",
    "\n",
    "## Useful Libraries\n",
    "1. [Binance REST API python implementation](https://pypi.org/project/python-binance/)\n",
    "2. [Technical Analysis Library in Python](https://pypi.org/project/ta/)\n",
    "3. [Hurst exponent evaluation and R/S-analysis](https://pypi.org/project/hurst/)\n",
    "\n",
    "## Reference\n",
    "1. [How to Use Binance API Key | Full Guide](https://cryptopro.app/help/automatic-import/binance-api-key/)\n",
    "2. [Technical Analysis Library in Python](https://github.com/bukosabino/ta)\n",
    "3. [Python wrapper for TA-Lib](https://github.com/mrjbq7/ta-lib)\n",
    "4. [An unofficial mirror to the old SF repo](https://github.com/TA-Lib)"
   ]
  },
  {
   "cell_type": "code",
   "execution_count": 100,
   "metadata": {},
   "outputs": [],
   "source": [
    "# !pip3 install --upgrade ta\n",
    "# !pip3 install python-binance"
   ]
  },
  {
   "cell_type": "markdown",
   "metadata": {},
   "source": [
    "---\n",
    "## Initialisation"
   ]
  },
  {
   "cell_type": "code",
   "execution_count": 101,
   "metadata": {},
   "outputs": [],
   "source": [
    "import warnings\n",
    "warnings.filterwarnings(\"ignore\", category=FutureWarning)\n",
    "warnings.filterwarnings(\"ignore\", category=Warning)\n",
    "warnings.filterwarnings(\"ignore\", category=DeprecationWarning)\n",
    "\n",
    "# IMPORTS\n",
    "import pandas as pd\n",
    "import numpy as np\n",
    "\n",
    "import time\n",
    "import math\n",
    "import os.path\n",
    "\n",
    "from tqdm.notebook import tqdm\n",
    "\n",
    "from datetime import timedelta, datetime\n",
    "from dateutil import parser\n",
    "\n",
    "# Import the plotting library\n",
    "import matplotlib.pyplot as plt\n",
    "%matplotlib inline\n",
    "\n",
    "import matplotlib.dates as mdates\n",
    "from matplotlib.dates import DateFormatter\n",
    "from matplotlib.dates import MonthLocator\n",
    "\n",
    "import seaborn as sns\n",
    "sns.set()\n",
    "\n",
    "## Changing the default settings\n",
    "pd.options.display.max_columns = 50\n",
    "plt.rcParams.update({'figure.figsize':(15,6), 'figure.dpi':60})\n",
    "plt.style.use('fivethirtyeight')"
   ]
  },
  {
   "cell_type": "code",
   "execution_count": 102,
   "metadata": {},
   "outputs": [],
   "source": [
    "from ta import add_all_ta_features\n",
    "from ta.utils import dropna"
   ]
  },
  {
   "cell_type": "code",
   "execution_count": 103,
   "metadata": {},
   "outputs": [],
   "source": [
    "import sys  \n",
    "sys.path.append('../src') \n",
    "\n",
    "from edge_binance import *\n",
    "from edge import *\n",
    "from edge_risk_kit import *\n",
    "import edge_risk_kit as erk"
   ]
  },
  {
   "cell_type": "markdown",
   "metadata": {},
   "source": [
    "## Connect to Binance\n",
    "\n",
    "Create your own API keys to download prices from Binance."
   ]
  },
  {
   "cell_type": "code",
   "execution_count": 104,
   "metadata": {},
   "outputs": [],
   "source": [
    "import json\n",
    "\n",
    "with open('../binance/api.json', 'r') as f:\n",
    "    api = json.load(f)"
   ]
  },
  {
   "cell_type": "code",
   "execution_count": 105,
   "metadata": {},
   "outputs": [],
   "source": [
    "binance_api_key = api['key']       # Enter your own API-key here\n",
    "binance_api_secret = api['secret'] # Enter your own API-secret here\n",
    "\n",
    "DATA_FOLDER = '../data/'\n",
    "MODEL_FOLDER = '../model/'\n",
    "OUTPUT_FOLDER = '../output/'\n",
    "\n",
    "createfolder(DATA_FOLDER)\n",
    "createfolder(MODEL_FOLDER)\n",
    "createfolder(OUTPUT_FOLDER)\n",
    "\n",
    "bClient = binanceClient(binance_api_key, binance_api_secret, DATA_FOLDER)"
   ]
  },
  {
   "cell_type": "markdown",
   "metadata": {},
   "source": [
    "## Download Data\n",
    "\n",
    "Specify the list of cryptocurrency tickers to download data."
   ]
  },
  {
   "cell_type": "code",
   "execution_count": 106,
   "metadata": {},
   "outputs": [],
   "source": [
    "coins = ['BTCUSDT', 'ETHUSDT']"
   ]
  },
  {
   "cell_type": "code",
   "execution_count": 107,
   "metadata": {},
   "outputs": [
    {
     "data": {
      "application/vnd.jupyter.widget-view+json": {
       "model_id": "e268ffb63b1b4f678ea2e27fa34b5eb4",
       "version_major": 2,
       "version_minor": 0
      },
      "text/plain": [
       "  0%|          | 0/2 [00:00<?, ?it/s]"
      ]
     },
     "metadata": {},
     "output_type": "display_data"
    },
    {
     "name": "stdout",
     "output_type": "stream",
     "text": [
      "Downloading 476 minutes of new data available for BTCUSDT, i.e. 476 instances of 1m data.\n",
      "All caught up..!\n",
      "Downloading 476 minutes of new data available for ETHUSDT, i.e. 476 instances of 1m data.\n",
      "All caught up..!\n"
     ]
    }
   ],
   "source": [
    "for symbol in tqdm(coins):\n",
    "    try:\n",
    "        bClient.get_all_binance(symbol, '1m', save = True)\n",
    "    except:\n",
    "        print('Skipping {}...'.format(symbol))\n",
    "        pass"
   ]
  },
  {
   "cell_type": "markdown",
   "metadata": {},
   "source": [
    "---\n",
    "## Data Preprocessing\n",
    "\n",
    "1. Remove any records with the same timestamp.  Keeping to the last one.\n",
    "2. Resample the 1-min data into 15-min data.  OHLC sampled with the latest data.  Volume sampled by summing all the values within the hour.\n",
    "3. Reindex the sampled data with timestamp and specify the timezone to match with the trading timezone."
   ]
  },
  {
   "cell_type": "code",
   "execution_count": 108,
   "metadata": {},
   "outputs": [],
   "source": [
    "prices = pd.read_csv('../data/BTCUSDT-1m-data.csv', parse_dates=True)"
   ]
  },
  {
   "cell_type": "code",
   "execution_count": 109,
   "metadata": {},
   "outputs": [],
   "source": [
    "prices = prices.iloc[prices.timestamp.drop_duplicates(keep='last').index]\n",
    "prices.timestamp = pd.to_datetime(prices.timestamp)\n",
    "prices.set_index('timestamp', inplace=True)\n",
    "\n",
    "prices_ohlc = prices[['open','high','low','close']]\n",
    "prices_vol = prices[['volume']]\n",
    "\n",
    "prices_ohlc = prices_ohlc.resample('15T').agg({'open': 'first', \n",
    "                                 'high': 'max', \n",
    "                                 'low': 'min', \n",
    "                                 'close': 'last'})\n",
    "prices_vol = prices_vol.resample('15T').sum()\n",
    "\n",
    "prices_ohlc.fillna(method='ffill', inplace=True)\n",
    "\n",
    "prices = pd.concat([prices_ohlc, prices_vol], axis=1)"
   ]
  },
  {
   "cell_type": "code",
   "execution_count": 110,
   "metadata": {},
   "outputs": [],
   "source": [
    "prices.index = prices.index.tz_localize('UTC').tz_convert('Asia/Singapore')"
   ]
  },
  {
   "cell_type": "markdown",
   "metadata": {},
   "source": [
    "---\n",
    "## Feature Engineering\n",
    "### Technical Indicators"
   ]
  },
  {
   "cell_type": "code",
   "execution_count": 111,
   "metadata": {},
   "outputs": [],
   "source": [
    "prices_ind = prices.copy()"
   ]
  },
  {
   "cell_type": "code",
   "execution_count": 112,
   "metadata": {},
   "outputs": [],
   "source": [
    "# from ta import add_all_ta_features\n",
    "\n",
    "# # Add all ta features\n",
    "# prices_ind = add_all_ta_features(prices_ind, open=\"open\", high=\"high\", low=\"low\", close=\"close\", volume=\"volume\")"
   ]
  },
  {
   "cell_type": "code",
   "execution_count": 113,
   "metadata": {},
   "outputs": [],
   "source": [
    "# prices_ind.loc[:,(prices_ind.isnull().mean() * 100).sort_values(ascending=False) > 0].columns"
   ]
  },
  {
   "cell_type": "markdown",
   "metadata": {},
   "source": [
    "#### Momentum Indicators\n",
    "1. Relative Strength Index (RSI)\n",
    "2. Rate of Change (ROC)\n",
    "3. Williams %R (WR)"
   ]
  },
  {
   "cell_type": "code",
   "execution_count": 114,
   "metadata": {},
   "outputs": [],
   "source": [
    "from ta.momentum import RSIIndicator, ROCIndicator, WilliamsRIndicator\n",
    "\n",
    "prices_ind['rsi14'] = RSIIndicator(prices.close).rsi()\n",
    "prices_ind['roc12'] = ROCIndicator(prices.close).roc()\n",
    "prices_ind['wr14'] = WilliamsRIndicator(prices.high, prices.low, prices.close).williams_r()"
   ]
  },
  {
   "cell_type": "markdown",
   "metadata": {},
   "source": [
    "#### Trend Indicators\n",
    "1. Moving Average Convergence Divergence (MACD)\n",
    "2. Average Directional Movement Index (ADX)"
   ]
  },
  {
   "cell_type": "code",
   "execution_count": 115,
   "metadata": {},
   "outputs": [],
   "source": [
    "from ta.trend import CCIIndicator, MACD, ADXIndicator\n",
    "import talib\n",
    "\n",
    "# prices_ind['cci20'] = CCIIndicator(prices.high, prices.low, prices.close).cci()\n",
    "prices_ind['adx'] = ADXIndicator(prices.high, prices.low, prices.close).adx()\n",
    "prices_ind['macd'] = MACD(prices.close).macd()\n",
    "prices_ind['macd_diff'] = MACD(prices.close).macd_diff()\n",
    "prices_ind['macd_signal'] = MACD(prices.close).macd_signal()"
   ]
  },
  {
   "cell_type": "markdown",
   "metadata": {},
   "source": [
    "#### Volatility Indicators\n",
    "\n",
    "1. Bollinger Bands (BB): Crossover Upper\n",
    "2. Bollinger Bands (BB): Crossover Lower\n",
    "3. Average True Range (ATR)"
   ]
  },
  {
   "cell_type": "code",
   "execution_count": 116,
   "metadata": {},
   "outputs": [],
   "source": [
    "from ta.volatility import AverageTrueRange, BollingerBands\n",
    "\n",
    "prices_ind['atr'] = AverageTrueRange(prices.high, prices.low, prices.close).average_true_range()\n",
    "prices_ind['bb_high'] = BollingerBands(prices.close).bollinger_hband_indicator()\n",
    "prices_ind['bb_low'] = BollingerBands(prices.close).bollinger_lband_indicator()"
   ]
  },
  {
   "cell_type": "markdown",
   "metadata": {},
   "source": [
    "### Candlestick Patterns\n",
    "\n",
    "Using TA Library to detect and generate candlestick patterns.  See list of Pattern Recognition here: (https://github.com/mrjbq7/ta-lib)"
   ]
  },
  {
   "cell_type": "code",
   "execution_count": 117,
   "metadata": {},
   "outputs": [],
   "source": [
    "import talib\n",
    "\n",
    "candle_names = talib.get_function_groups()['Pattern Recognition']\n",
    "removed = ['CDLCOUNTERATTACK', 'CDLLONGLINE', 'CDLSHORTLINE', \n",
    "           'CDLSTALLEDPATTERN', 'CDLKICKINGBYLENGTH']\n",
    "candle_names = [name for name in candle_names if name not in removed]"
   ]
  },
  {
   "cell_type": "code",
   "execution_count": 118,
   "metadata": {},
   "outputs": [],
   "source": [
    "# extract OHLC \n",
    "op = prices_ind['open']\n",
    "hi = prices_ind['high']\n",
    "lo = prices_ind['low']\n",
    "cl = prices_ind['close']\n",
    "\n",
    "# create columns for each pattern\n",
    "for candle in candle_names:\n",
    "    # below is same as;\n",
    "    # df[\"CDL3LINESTRIKE\"] = talib.CDL3LINESTRIKE(op, hi, lo, cl)\n",
    "    prices_ind[candle] = getattr(talib, candle)(op, hi, lo, cl)"
   ]
  },
  {
   "cell_type": "markdown",
   "metadata": {},
   "source": [
    "### Miscellaneous\n",
    "\n",
    "#### Candle Features\n",
    "1. Body Size: Close - Open\n",
    "2. Length of hair: High - max(Open, Close) \n",
    "3. Length of tail: min(Open, Close) - Low"
   ]
  },
  {
   "cell_type": "code",
   "execution_count": 119,
   "metadata": {},
   "outputs": [],
   "source": [
    "prices_ind['hair'] = prices.apply(lambda x: x.high - max(x.open, x.close), axis=1)\n",
    "prices_ind['body'] = prices.close - prices.open\n",
    "prices_ind['tail'] = prices.apply(lambda x: min(x.open, x.close) - x.low, axis=1)"
   ]
  },
  {
   "cell_type": "markdown",
   "metadata": {},
   "source": [
    "#### Other Features\n",
    "\n",
    "1. Hourly Return - Using 15-min price data to calculate the cumulative hourly return (4 candle sticks)"
   ]
  },
  {
   "cell_type": "code",
   "execution_count": 120,
   "metadata": {},
   "outputs": [],
   "source": [
    "# from statsmodels.tsa.stattools import adfuller\n",
    "# from hurst import compute_Hc, random_walk\n",
    "# prices_ind['adfuller'] = prices.close.rolling(192).apply(lambda x: adfuller(x)[0])\n",
    "# prices_ind['hurst'] = prices.close.rolling(192).apply(lambda x: compute_Hc(x)[0])\n",
    "\n",
    "prices_ind['pct_chg'] = (prices.close.pct_change()+1).rolling(4).apply(np.prod)-1"
   ]
  },
  {
   "cell_type": "markdown",
   "metadata": {},
   "source": [
    "### Target\n",
    "\n",
    "1. Next Hourly Return - Shift back the hour return 4 candlesticks to be used as target on the features observed at that point in time."
   ]
  },
  {
   "cell_type": "code",
   "execution_count": 121,
   "metadata": {},
   "outputs": [],
   "source": [
    "prices_ind['target'] = prices_ind['pct_chg'].shift(-4)"
   ]
  },
  {
   "cell_type": "markdown",
   "metadata": {},
   "source": [
    "### Features not required\n",
    "Dropping OHLC from the training features.  Not expecting these to have strong prediction power."
   ]
  },
  {
   "cell_type": "code",
   "execution_count": 122,
   "metadata": {},
   "outputs": [],
   "source": [
    "data = prices_ind.iloc[:,4:].dropna()"
   ]
  },
  {
   "cell_type": "markdown",
   "metadata": {},
   "source": [
    "### Target Classification\n",
    "Binning next hourly return into 3 distinct groups:\n",
    "- Red: Hourly return < -0.015\n",
    "- Green: Hourly return > 0.015\n",
    "- Yellow: the rest\n",
    "\n",
    "Name of target column: **target_range**"
   ]
  },
  {
   "cell_type": "code",
   "execution_count": 123,
   "metadata": {},
   "outputs": [],
   "source": [
    "target_range = {0: 'Red', 1: 'Yellow', 2: 'Green'}\n",
    "target_range_rev = {val:key  for key, val in target_range.items()}"
   ]
  },
  {
   "cell_type": "code",
   "execution_count": 124,
   "metadata": {},
   "outputs": [],
   "source": [
    "data['target_range'] = pd.cut(data['target'], \n",
    "       bins=[-float(\"inf\"),-0.015,0.015,float(\"inf\")], \n",
    "       right=False, labels=['Red','Yellow','Green'])"
   ]
  },
  {
   "cell_type": "code",
   "execution_count": 125,
   "metadata": {},
   "outputs": [],
   "source": [
    "data['target_range'] = data['target_range'].map(target_range_rev)"
   ]
  },
  {
   "cell_type": "markdown",
   "metadata": {},
   "source": [
    "---\n",
    "## Model Data Preparation\n",
    "### Train Test Split\n",
    "\n",
    "Model training with data before 1 Jan 2020.  Data after 31 Dec 2019 will be use as out-of-sample (forward looking) trading performance measurement at the end of this analysis.\n",
    "\n",
    "The training data is further split into train and validation dataset (80% vs 20%) for model training with hyperparameter tuning and cross validation."
   ]
  },
  {
   "cell_type": "code",
   "execution_count": 126,
   "metadata": {},
   "outputs": [],
   "source": [
    "SEED = 3567"
   ]
  },
  {
   "cell_type": "code",
   "execution_count": 127,
   "metadata": {},
   "outputs": [],
   "source": [
    "target = ['target_range']\n",
    "to_drop = ['target']\n",
    "features = [column for column in data.columns if column not in target + to_drop]\n",
    "\n",
    "X = data[:'2019'][features]\n",
    "y = data[:'2019'][target]\n",
    "\n",
    "X_sim = data['2020':][features]\n",
    "y_sim = data['2020':][target + to_drop]"
   ]
  },
  {
   "cell_type": "code",
   "execution_count": 128,
   "metadata": {},
   "outputs": [],
   "source": [
    "from sklearn.model_selection import train_test_split\n",
    "from sklearn.preprocessing import LabelEncoder\n",
    "from sklearn.preprocessing import OneHotEncoder\n",
    "from sklearn.preprocessing import StandardScaler\n",
    "\n",
    "X_train, X_valid, y_train, y_valid = train_test_split(X, y, test_size=0.2, \n",
    "                                                      stratify=y, random_state=SEED)"
   ]
  },
  {
   "cell_type": "markdown",
   "metadata": {},
   "source": [
    "### Normalising the datasets\n",
    "- Fit and Transform on the train dataset\n",
    "- Transform only on the validation dataset using the scaler fitted with train dataset\n",
    "- Such scaling or normalising may not be necessary for tree-based models"
   ]
  },
  {
   "cell_type": "code",
   "execution_count": 129,
   "metadata": {},
   "outputs": [],
   "source": [
    "numerical_cols = ['volume','rsi14','roc12','wr14','macd','macd_diff','macd_signal',\n",
    "                  'adx','atr','bb_high','bb_low','hair','body','tail','pct_chg']"
   ]
  },
  {
   "cell_type": "code",
   "execution_count": 130,
   "metadata": {},
   "outputs": [
    {
     "name": "stdout",
     "output_type": "stream",
     "text": [
      "List of columns to scale: ['volume', 'rsi14', 'roc12', 'wr14', 'adx', 'macd', 'macd_diff', 'macd_signal', 'atr', 'bb_high', 'bb_low', 'hair', 'body', 'tail', 'pct_chg']\n"
     ]
    }
   ],
   "source": [
    "col_toscale = [col for col in X_train.columns.tolist() if col in numerical_cols]\n",
    "print('List of columns to scale: {}'.format(col_toscale))"
   ]
  },
  {
   "cell_type": "code",
   "execution_count": 131,
   "metadata": {},
   "outputs": [],
   "source": [
    "def processStdScaler(train, valid, columns):\n",
    "    \n",
    "    train_scaled = train.copy()\n",
    "    valid_scaled = valid.copy()\n",
    "\n",
    "    scaler = StandardScaler()\n",
    "    scaler.fit(train[columns])\n",
    "    train_scaled[columns] = scaler.transform(train[columns])\n",
    "    valid_scaled[columns] = scaler.transform(valid[columns])\n",
    "\n",
    "    return train_scaled, valid_scaled, scaler"
   ]
  },
  {
   "cell_type": "code",
   "execution_count": 132,
   "metadata": {},
   "outputs": [],
   "source": [
    "X_train_std, X_valid_std, scaler = processStdScaler(X_train, X_valid, col_toscale)"
   ]
  },
  {
   "cell_type": "code",
   "execution_count": 133,
   "metadata": {},
   "outputs": [],
   "source": [
    "X_train = X_train_std\n",
    "X_valid = X_valid_std"
   ]
  },
  {
   "cell_type": "markdown",
   "metadata": {},
   "source": [
    "Save the scaler for prediction next time"
   ]
  },
  {
   "cell_type": "code",
   "execution_count": 135,
   "metadata": {},
   "outputs": [],
   "source": [
    "import pickle \n",
    "\n",
    "scaler_pkl = open(OUTPUT_FOLDER + 'scaler.pkl', 'wb') \n",
    "pickle.dump(scaler, scaler_pkl)"
   ]
  },
  {
   "cell_type": "markdown",
   "metadata": {},
   "source": [
    "### Resampling the Training dataset\n",
    "Resampling is only done on the training dataset due to imbalanced target variable.  Upsampling will be done and be only conducted after the training dataset is normalised."
   ]
  },
  {
   "cell_type": "code",
   "execution_count": 138,
   "metadata": {},
   "outputs": [
    {
     "data": {
      "text/plain": [
       "target_range\n",
       "0     2970\n",
       "1    60662\n",
       "2     2888\n",
       "dtype: int64"
      ]
     },
     "execution_count": 138,
     "metadata": {},
     "output_type": "execute_result"
    }
   ],
   "source": [
    "y_train.groupby('target_range').size()"
   ]
  },
  {
   "cell_type": "code",
   "execution_count": 139,
   "metadata": {},
   "outputs": [
    {
     "data": {
      "text/plain": [
       "1    60662\n",
       "0     2970\n",
       "2     2888\n",
       "Name: target_range, dtype: int64"
      ]
     },
     "execution_count": 139,
     "metadata": {},
     "output_type": "execute_result"
    }
   ],
   "source": [
    "y_train.target_range.value_counts()"
   ]
  },
  {
   "cell_type": "code",
   "execution_count": 140,
   "metadata": {},
   "outputs": [],
   "source": [
    "from sklearn.utils import resample\n",
    "\n",
    "def upsample_byCol(data, column, code):\n",
    "    maxN = data.groupby(column).size().max()\n",
    "\n",
    "    df = data[data[column] == code]\n",
    "    num = maxN - df.shape[0]\n",
    "    if num > 0:\n",
    "        df_more = resample(df, replace=True, n_samples=num, random_state=SEED)\n",
    "        df = pd.concat([df, df_more])\n",
    "    return df"
   ]
  },
  {
   "cell_type": "code",
   "execution_count": 141,
   "metadata": {},
   "outputs": [],
   "source": [
    "Xy_train = pd.concat([X_train, y_train], axis = 1)"
   ]
  },
  {
   "cell_type": "code",
   "execution_count": 142,
   "metadata": {},
   "outputs": [],
   "source": [
    "train_resample = []\n",
    "\n",
    "return_ranges = Xy_train['target_range'].unique()\n",
    "for return_range in return_ranges:\n",
    "    code_resampled = upsample_byCol(Xy_train, 'target_range', return_range)\n",
    "    train_resample.append(code_resampled)\n",
    "    \n",
    "Xy_train = pd.concat(train_resample).reset_index(drop=True)\n",
    "Xy_train = Xy_train.sample(frac=1, random_state = SEED).reset_index(drop=True)"
   ]
  },
  {
   "cell_type": "code",
   "execution_count": 143,
   "metadata": {},
   "outputs": [
    {
     "data": {
      "text/plain": [
       "target_range\n",
       "0    60662\n",
       "1    60662\n",
       "2    60662\n",
       "dtype: int64"
      ]
     },
     "execution_count": 143,
     "metadata": {},
     "output_type": "execute_result"
    }
   ],
   "source": [
    "Xy_train.groupby('target_range').size()"
   ]
  },
  {
   "cell_type": "code",
   "execution_count": 144,
   "metadata": {},
   "outputs": [],
   "source": [
    "target = ['target_range']\n",
    "to_drop = ['']\n",
    "features = [column for column in Xy_train.columns if column not in target + to_drop]\n",
    "\n",
    "X_train = Xy_train[features]\n",
    "y_train = Xy_train[target]\n",
    "\n",
    "X_valid = X_valid[features]\n",
    "y_valid = y_valid[target]"
   ]
  },
  {
   "cell_type": "code",
   "execution_count": 145,
   "metadata": {},
   "outputs": [],
   "source": [
    "# from sklearn.utils import class_weight\n",
    "# class_weights = class_weight.compute_class_weight('balanced', np.unique(y_train.target_range), \n",
    "#                                                   np.array(y_train.target_range))\n",
    "# class_weights"
   ]
  },
  {
   "cell_type": "markdown",
   "metadata": {},
   "source": [
    "### Prepare Training and Validation dataset for GridSearch\n",
    "\n",
    "This will have to be done separately because we need the grid search to tune the parameters by validating against a dataset we provide and not automatically sampled from the training dataset that has been resampled.  We want samples in the validation dataset to be unseen in the training dataset.\n",
    "\n",
    "In order to do this properly for GridSearchCV, we need to use PredefinedSplit and fit GridSearchCV with the full dataset.  The test dataset is further splitted into 3 groups for validation scoring calculation.  Note however that this may cause a longer model training time."
   ]
  },
  {
   "cell_type": "code",
   "execution_count": 146,
   "metadata": {},
   "outputs": [],
   "source": [
    "Xy_trainGS = X_train.join(y_train)\n",
    "Xy_validGS = X_valid.join(y_valid)\n",
    "\n",
    "grpTest = np.random.randint(3, size=Xy_validGS.shape[0])"
   ]
  },
  {
   "cell_type": "code",
   "execution_count": 147,
   "metadata": {},
   "outputs": [],
   "source": [
    "from sklearn.model_selection import PredefinedSplit\n",
    "\n",
    "# Create a list where train data indices are -1 and validation data indices are 0\n",
    "# eg: split_index = [-1 if x in X_train.index else 0 for x in X.index]\n",
    "# split_index = [-1] * Xy_trainGS.shape[0] + [0] * Xy_validGS.shape[0] \n",
    "split_index = [-1] * Xy_trainGS.shape[0] + list(grpTest)\n",
    "\n",
    "# Use the list to create PredefinedSplit\n",
    "pds_GridSearch = PredefinedSplit(test_fold = split_index)"
   ]
  },
  {
   "cell_type": "code",
   "execution_count": 148,
   "metadata": {},
   "outputs": [],
   "source": [
    "# for train_index, test_index in pds_GridSearch.split():\n",
    "#     print(\"TRAIN:\", train_index, \"TEST:\", test_index, len(test_index))"
   ]
  },
  {
   "cell_type": "code",
   "execution_count": 149,
   "metadata": {},
   "outputs": [],
   "source": [
    "Xy_GS = pd.concat([Xy_trainGS, Xy_validGS]).reset_index(drop=True) \n",
    "X_GS = Xy_GS[features]\n",
    "y_GS = Xy_GS[target]"
   ]
  },
  {
   "cell_type": "markdown",
   "metadata": {},
   "source": [
    "### Finalising the Datasets\n",
    "\n",
    "We have 3 datasets.  They are the train, valid and GS datasets.  GS is the full dataset with in which the preDefinedSplit indices are defined for cross validation purpose used especially for hyperparameter tuning during GridSearch.  Each dataset is further separated by features (X) and target (y).  \n",
    "\n",
    "Also, keeping a copy of the validation target dataframe to be appended with model prediction results and confusion matrix presentation and summary."
   ]
  },
  {
   "cell_type": "code",
   "execution_count": 150,
   "metadata": {},
   "outputs": [],
   "source": [
    "X_valid_org = X_valid.copy()\n",
    "y_valid_org = y_valid.copy()"
   ]
  },
  {
   "cell_type": "code",
   "execution_count": 151,
   "metadata": {},
   "outputs": [
    {
     "name": "stdout",
     "output_type": "stream",
     "text": [
      "(181986, 71)\n",
      "(181986, 1)\n",
      "(16631, 71)\n",
      "(16631, 1)\n",
      "(198617, 71)\n",
      "(198617, 1)\n"
     ]
    }
   ],
   "source": [
    "print(X_train.shape)\n",
    "print(y_train.shape)\n",
    "print(X_valid.shape)\n",
    "print(y_valid.shape)\n",
    "print(X_GS.shape)\n",
    "print(y_GS.shape)"
   ]
  },
  {
   "cell_type": "markdown",
   "metadata": {},
   "source": [
    "---\n",
    "## Model Training"
   ]
  },
  {
   "cell_type": "code",
   "execution_count": 152,
   "metadata": {},
   "outputs": [],
   "source": [
    "from lightgbm import LGBMClassifier, plot_importance, plot_tree\n",
    "from sklearn.ensemble import RandomForestClassifier\n",
    "from sklearn.ensemble import GradientBoostingClassifier\n",
    "from xgboost import XGBClassifier\n",
    "from sklearn.ensemble import VotingClassifier\n",
    "\n",
    "from sklearn.model_selection import RepeatedStratifiedKFold\n",
    "from sklearn.model_selection import cross_val_score, ShuffleSplit, cross_validate\n",
    "\n",
    "from sklearn.metrics import accuracy_score\n",
    "from sklearn.metrics import mean_squared_error "
   ]
  },
  {
   "cell_type": "markdown",
   "metadata": {},
   "source": [
    "### Quick Test\n",
    "A quick model test, just to ensure the training dataset is constructed and transformed correctly for model training."
   ]
  },
  {
   "cell_type": "code",
   "execution_count": 153,
   "metadata": {},
   "outputs": [
    {
     "name": "stdout",
     "output_type": "stream",
     "text": [
      "Accuracy: 0.754 (0.006)\n"
     ]
    }
   ],
   "source": [
    "# evaluate the model\n",
    "lgbm = LGBMClassifier()\n",
    "\n",
    "n_scores = cross_val_score(lgbm, X_GS, y_GS, scoring='accuracy', cv=pds_GridSearch, n_jobs=-1)\n",
    "print('Accuracy: %.3f (%.3f)' % (np.mean(n_scores), np.std(n_scores)))"
   ]
  },
  {
   "cell_type": "markdown",
   "metadata": {},
   "source": [
    "### Model Building\n",
    "#### Hyperparameter tuning for various models\n",
    "\n",
    "- Light GBM\n",
    "- Random Forest\n",
    "- Gradient Boosting Classifier\n",
    "- XGBoost"
   ]
  },
  {
   "cell_type": "code",
   "execution_count": 154,
   "metadata": {},
   "outputs": [],
   "source": [
    "n_estimators = [150]  # Large estimators will increase the training time\n",
    "max_features = [0.6, 0.8]\n",
    "max_depth = [9, 12]\n",
    "learning_rate = [0.005, 0.001]\n",
    "subsample = [0.6, 0.8]\n",
    "gamma = [0.01]\n",
    "num_leaves = [10, 12]"
   ]
  },
  {
   "cell_type": "code",
   "execution_count": 155,
   "metadata": {},
   "outputs": [],
   "source": [
    "models = []\n",
    "grid_param = []\n",
    "\n",
    "# lgbm\n",
    "models.append(('lgbm', LGBMClassifier()))\n",
    "grid_param.append([{ \n",
    "        'learning_rate': learning_rate,\n",
    "        'max_depth': max_depth,\n",
    "        'n_estimators': n_estimators,\n",
    "        'num_leaves': num_leaves,\n",
    "#         'reg_alpha': alpha_l1,\n",
    "#         'reg_lambda': lambda_l2,\n",
    "        'subsample': subsample,\n",
    "        'colsample_bytree': max_features,\n",
    "        'random_state': [SEED]  \n",
    "    }])\n",
    "\n",
    "# rf\n",
    "models.append(('rf', RandomForestClassifier()))\n",
    "grid_param.append([{ \n",
    "        'n_estimators': n_estimators,\n",
    "        'max_features': max_features,\n",
    "        'max_depth': max_depth,\n",
    "        'max_samples': subsample,\n",
    "        'criterion': ['gini', 'entropy'],\n",
    "        'oob_score': [True],\n",
    "        'random_state': [SEED]\n",
    "    }])\n",
    "\n",
    "## gb\n",
    "models.append(('gb', GradientBoostingClassifier()))\n",
    "grid_param.append([{ \n",
    "        'n_estimators': n_estimators,\n",
    "        'subsample': subsample,\n",
    "        'max_features': max_features,\n",
    "        'max_depth': max_depth,\n",
    "        'learning_rate': learning_rate,\n",
    "        'random_state': [SEED]\n",
    "    }])\n",
    "\n",
    "## xgb\n",
    "models.append(('xgb', XGBClassifier()))\n",
    "grid_param.append([{ \n",
    "        'learning_rate': learning_rate,\n",
    "        'max_depth': max_depth,\n",
    "        'n_estimators': n_estimators,\n",
    "        'gamma': gamma,\n",
    "#         'reg_alpha': alpha_l1,\n",
    "#         'reg_lambda': lambda_l2,\n",
    "        'subsample': subsample,\n",
    "        'colsample_bytree': max_features,\n",
    "        'seed': [SEED]  \n",
    "    }])\n"
   ]
  },
  {
   "cell_type": "markdown",
   "metadata": {},
   "source": [
    "This process can take a long time to find the best parameters for each model.  As this is a multi-class classification problem, the scoring metric of **roc_auc_ovr** is used.  'ovr' stands for One-vs-Rest.  This metric is sensitive to class imbalance."
   ]
  },
  {
   "cell_type": "code",
   "execution_count": 156,
   "metadata": {},
   "outputs": [],
   "source": [
    "from sklearn.model_selection import GridSearchCV"
   ]
  },
  {
   "cell_type": "code",
   "execution_count": null,
   "metadata": {},
   "outputs": [],
   "source": [
    "start_total = time.perf_counter()\n",
    "\n",
    "savefolder = MODEL_FOLDER + getTimeStamp() + '/'\n",
    "createfolder(savefolder)\n",
    "\n",
    "for model, param in zip (models, grid_param):\n",
    "\n",
    "    print(model[1])\n",
    "    print(param)\n",
    "    \n",
    "    start = time.perf_counter()        \n",
    "    best_search = GridSearchCV(estimator=model[1], param_grid=param, \n",
    "                               cv=pds_GridSearch, scoring='roc_auc_ovr', \n",
    "                               verbose=0, return_train_score=True)\n",
    "    \n",
    "    best_search.fit(X_GS, y_GS)\n",
    "    \n",
    "    run = time.perf_counter() - start\n",
    "\n",
    "    best_param = best_search.best_params_\n",
    "    print('\\n######')\n",
    "    print('The best parameter for {} is {} with a runtime of {:.2f} minutes.'.format(model[1].__class__.__name__, \n",
    "                                                                                     best_param, run/60))\n",
    "    model[1].set_params(**best_param) \n",
    "    print('######\\n')\n",
    "    \n",
    "    save_ml_model(model, savefolder + model[0] + '.pkl')\n",
    "    \n",
    "run_total = time.perf_counter() - start_total\n",
    "print('Total optimization time was {:.2f} minutes.'.format(run_total/60))\n",
    "\n",
    "print('-'*10)"
   ]
  },
  {
   "cell_type": "markdown",
   "metadata": {},
   "source": [
    "The hyperparameter tuning took a total of 632 minutes on my machine.  That is almost 10.5 hours.  GradientBoostingClassifier took the longest and completed after 426 minutes. "
   ]
  },
  {
   "cell_type": "code",
   "execution_count": null,
   "metadata": {},
   "outputs": [],
   "source": [
    "from tqdm import tqdm_notebook as tqdm\n",
    "\n",
    "model_results = []\n",
    "for m in tqdm(models):\n",
    "    result = {}\n",
    "    print('Processing {}...'.format(type(m[1]).__name__))\n",
    "\n",
    "    m_cv = cross_validate(m[1], X_GS, y_GS, cv=pds_GridSearch, return_train_score=True)\n",
    "#     m_cv = cross_validate(m[1], X_GS, y_GS, cv=3, return_train_score=True)\n",
    "    \n",
    "    result['Model'] = type(m[1]).__name__\n",
    "    result['TrainScore'] = m_cv['train_score'].mean()\n",
    "    result['TestScore'] = m_cv['test_score'].mean()\n",
    "    result['Test3Std'] = m_cv['test_score'].std()*3\n",
    "    \n",
    "    model_results.append(result)"
   ]
  },
  {
   "cell_type": "markdown",
   "metadata": {},
   "source": [
    "#### Including Voting Classifier\n",
    "\n",
    "Using Crowd Wisdom"
   ]
  },
  {
   "cell_type": "code",
   "execution_count": null,
   "metadata": {},
   "outputs": [],
   "source": [
    "## Including Voting Classifier in the results    \n",
    "## Hard Vote or majority rules w/Tuned Hyperparameters\n",
    "\n",
    "print('Processing VotingClassifer...')\n",
    "result = {}    \n",
    "vc = VotingClassifier(estimators=models, voting='soft')\n",
    "vc_cv = cross_validate(vc, X_GS, y_GS, cv=pds_GridSearch, return_train_score=True)\n",
    "# vc_cv = cross_validate(vc, X_GS, y_GS, cv=3, return_train_score=True)\n",
    "\n",
    "result['Model'] = type(vc).__name__\n",
    "result['TrainScore'] = vc_cv['train_score'].mean()\n",
    "result['TestScore'] = vc_cv['test_score'].mean()\n",
    "result['Test3Std'] = vc_cv['test_score'].std()*3\n",
    "\n",
    "model_results.append(result)"
   ]
  },
  {
   "cell_type": "code",
   "execution_count": null,
   "metadata": {},
   "outputs": [],
   "source": [
    "models.append(('vc', vc))"
   ]
  },
  {
   "cell_type": "code",
   "execution_count": null,
   "metadata": {},
   "outputs": [],
   "source": [
    "model_results = pd.DataFrame(model_results).set_index('Model').sort_values('TestScore', ascending=False) \n",
    "model_results"
   ]
  },
  {
   "cell_type": "markdown",
   "metadata": {},
   "source": [
    "### Save Models"
   ]
  },
  {
   "cell_type": "code",
   "execution_count": null,
   "metadata": {},
   "outputs": [],
   "source": [
    "savefolder = MODEL_FOLDER + getTimeStamp() + '/'\n",
    "createfolder(savefolder)\n",
    "\n",
    "for m in models:\n",
    "    save_ml_model(m, savefolder + m[0] + '.pkl')"
   ]
  },
  {
   "cell_type": "markdown",
   "metadata": {},
   "source": [
    "Reloading the pretrained model for reproducibility reasons."
   ]
  },
  {
   "cell_type": "code",
   "execution_count": 157,
   "metadata": {},
   "outputs": [],
   "source": [
    "models = []\n",
    "for f in getFilelist(MODEL_FOLDER + '20210401124401'):\n",
    "    if f.endswith('.pkl'):\n",
    "        models.append(load_ml_model(f))"
   ]
  },
  {
   "cell_type": "markdown",
   "metadata": {},
   "source": [
    "### Model Selection\n",
    "Choosing the best performing model.  XGBClassifier is choosen here because the test score is relatively high with low volatility test result."
   ]
  },
  {
   "cell_type": "code",
   "execution_count": 158,
   "metadata": {},
   "outputs": [
    {
     "name": "stdout",
     "output_type": "stream",
     "text": [
      "0 gb\n",
      "1 lgbm\n",
      "2 rf\n",
      "3 vc\n",
      "4 xgb\n"
     ]
    }
   ],
   "source": [
    "for i, v in enumerate(models):\n",
    "    print(i, v[0])"
   ]
  },
  {
   "cell_type": "markdown",
   "metadata": {},
   "source": [
    "Finalising the best model by refitting with all the training data."
   ]
  },
  {
   "cell_type": "code",
   "execution_count": 159,
   "metadata": {},
   "outputs": [
    {
     "data": {
      "text/plain": [
       "XGBClassifier(base_score=0.5, booster=None, colsample_bylevel=1,\n",
       "              colsample_bynode=1, colsample_bytree=0.6, gamma=0.01, gpu_id=-1,\n",
       "              importance_type='gain', interaction_constraints=None,\n",
       "              learning_rate=0.005, max_delta_step=0, max_depth=12,\n",
       "              min_child_weight=1, missing=nan, monotone_constraints=None,\n",
       "              n_estimators=150, n_jobs=0, num_parallel_tree=1,\n",
       "              objective='multi:softprob', random_state=3567, reg_alpha=0,\n",
       "              reg_lambda=1, scale_pos_weight=None, seed=3567, subsample=0.6,\n",
       "              tree_method=None, validate_parameters=False, verbosity=None)"
      ]
     },
     "execution_count": 159,
     "metadata": {},
     "output_type": "execute_result"
    }
   ],
   "source": [
    "best = models[4][1]\n",
    "# best = vc\n",
    "best.fit(X_train, y_train)"
   ]
  },
  {
   "cell_type": "markdown",
   "metadata": {},
   "source": [
    "Save the best model for prediction next time"
   ]
  },
  {
   "cell_type": "code",
   "execution_count": 160,
   "metadata": {},
   "outputs": [],
   "source": [
    "save_ml_model(best, OUTPUT_FOLDER + 'best_model.pkl')"
   ]
  },
  {
   "cell_type": "markdown",
   "metadata": {},
   "source": [
    "### Feature Importance of best model"
   ]
  },
  {
   "cell_type": "code",
   "execution_count": 161,
   "metadata": {},
   "outputs": [
    {
     "data": {
      "image/png": "[encoded data removed]",
      "text/plain": [
       "<Figure size 900x360 with 1 Axes>"
      ]
     },
     "metadata": {},
     "output_type": "display_data"
    }
   ],
   "source": [
    "if type(best).__name__ == 'LGBMClassifier':\n",
    "    plot_importance(best, max_num_features=15)\n",
    "    plt.show()\n",
    "elif type(best).__name__ == 'VotingClassifier':\n",
    "    pass\n",
    "else:\n",
    "    feat_importances = pd.Series(best.feature_importances_, index=X_train.columns)\n",
    "    feat_importances.nlargest(15).plot(kind='barh').invert_yaxis()\n",
    "    plt.show()"
   ]
  },
  {
   "cell_type": "markdown",
   "metadata": {},
   "source": [
    "The top technical indicators are:\n",
    "1. **atr**: Average True Range\n",
    "2. **macd**: 12-day EMA - 26-day EMA\n",
    "3. **roc12**: Rate of Change (ROC)  \n",
    "4. **macd_signal**: 9-day EMA of MACD Line\n",
    "\n",
    "It is interesting to note that the shape of the candlestick: hair, tail and body contributes significantly to model prediction."
   ]
  },
  {
   "cell_type": "markdown",
   "metadata": {},
   "source": [
    "## Model Performance"
   ]
  },
  {
   "cell_type": "code",
   "execution_count": 162,
   "metadata": {},
   "outputs": [],
   "source": [
    "import itertools\n",
    "from sklearn.metrics import confusion_matrix\n",
    "\n",
    "def plot_confusion_matrix(cm, classes,\n",
    "                          normalize=False,\n",
    "                          title='Confusion matrix',\n",
    "                          cmap=plt.cm.Blues):\n",
    "    \"\"\"\n",
    "    This function prints and plots the confusion matrix.\n",
    "    Normalization can be applied by setting `normalize=True`.\n",
    "    \"\"\"\n",
    "    plt.imshow(cm, interpolation='nearest', cmap=cmap)\n",
    "    plt.title(title)\n",
    "    plt.colorbar()\n",
    "    tick_marks = np.arange(len(classes))\n",
    "    plt.xticks(tick_marks, classes, rotation=45)\n",
    "    plt.yticks(tick_marks, classes)\n",
    "\n",
    "    if normalize:\n",
    "        cm = cm.astype('float') / cm.sum(axis=1)[:, np.newaxis]\n",
    "#         print(\"Normalized confusion matrix\")\n",
    "#     else:\n",
    "#         print('Confusion matrix, without normalization')\n",
    "\n",
    "#     print(cm)\n",
    "\n",
    "    thresh = cm.max() / 2.\n",
    "    for i, j in itertools.product(range(cm.shape[0]), range(cm.shape[1])):\n",
    "        plt.text(j, i, cm[i, j],\n",
    "                 horizontalalignment=\"center\",\n",
    "                 color=\"white\" if cm[i, j] > thresh else \"black\")\n",
    "\n",
    "    plt.tight_layout()\n",
    "    plt.ylabel('True label')\n",
    "    plt.xlabel('Predicted label')"
   ]
  },
  {
   "cell_type": "code",
   "execution_count": 163,
   "metadata": {},
   "outputs": [],
   "source": [
    "predicted = best.predict(X_valid)\n",
    "y_valid_org['predicted_range'] = predicted"
   ]
  },
  {
   "cell_type": "code",
   "execution_count": 164,
   "metadata": {},
   "outputs": [],
   "source": [
    "class_labels = [target_range[key] for key in list(set(y_valid_org['target_range'].to_list() + \n",
    "                                                      y_valid_org['predicted_range'].to_list()))]"
   ]
  },
  {
   "cell_type": "code",
   "execution_count": 165,
   "metadata": {},
   "outputs": [
    {
     "data": {
      "image/png": "[encoded data removed]",
      "text/plain": [
       "<Figure size 900x360 with 2 Axes>"
      ]
     },
     "metadata": {},
     "output_type": "display_data"
    }
   ],
   "source": [
    "confusion = confusion_matrix(y_valid_org['target_range'], y_valid_org['predicted_range'])\n",
    "plot_confusion_matrix(confusion, class_labels, False)\n",
    "plt.show()"
   ]
  },
  {
   "cell_type": "markdown",
   "metadata": {},
   "source": [
    "### Selecting predictions with higher probability thresholds\n",
    "\n",
    "Predictions with at least 45% probability of getting it right given 3 choices of Green, Yellow and Red."
   ]
  },
  {
   "cell_type": "code",
   "execution_count": 166,
   "metadata": {},
   "outputs": [],
   "source": [
    "predicted_prob = best.predict_proba(X_valid)\n",
    "predicted_prob = np.amax(predicted_prob,1)\n",
    "y_valid_org['predicted_prob'] = predicted_prob\n",
    "# y_valid_org.predicted_prob.max()"
   ]
  },
  {
   "cell_type": "code",
   "execution_count": 167,
   "metadata": {},
   "outputs": [],
   "source": [
    "PROB_THRESHOLD = 0.45"
   ]
  },
  {
   "cell_type": "code",
   "execution_count": 168,
   "metadata": {},
   "outputs": [],
   "source": [
    "high_prob = y_valid_org[y_valid_org.predicted_prob > PROB_THRESHOLD]"
   ]
  },
  {
   "cell_type": "code",
   "execution_count": 169,
   "metadata": {},
   "outputs": [],
   "source": [
    "class_labels = [target_range[key] for key in list(set(high_prob['target_range'].to_list() + \n",
    "                                                      high_prob['predicted_range'].to_list()))]"
   ]
  },
  {
   "cell_type": "code",
   "execution_count": 170,
   "metadata": {},
   "outputs": [
    {
     "data": {
      "image/png": "[encoded data removed]",
      "text/plain": [
       "<Figure size 900x360 with 2 Axes>"
      ]
     },
     "metadata": {},
     "output_type": "display_data"
    }
   ],
   "source": [
    "confusion = confusion_matrix(high_prob['target_range'], high_prob['predicted_range'])\n",
    "plot_confusion_matrix(confusion, class_labels, False)\n",
    "plt.show()"
   ]
  },
  {
   "cell_type": "markdown",
   "metadata": {},
   "source": [
    "## Trading Performance\n",
    "\n",
    "Using out-of-sample (forward looking) data after 1 Jan 2020 to make a prediction and execute a trade according to signal predictions.  \n"
   ]
  },
  {
   "cell_type": "markdown",
   "metadata": {},
   "source": [
    "X_sim contains feature data beyond 1 Jan 2020.  It needs to be normalised using the scaler trained on training data before it can be applied to the trained model for prediction."
   ]
  },
  {
   "cell_type": "code",
   "execution_count": 171,
   "metadata": {},
   "outputs": [],
   "source": [
    "X_sim_scaled = X_sim.copy()\n",
    "X_sim_scaled[col_toscale] = scaler.transform(X_sim_scaled[col_toscale])"
   ]
  },
  {
   "cell_type": "code",
   "execution_count": 172,
   "metadata": {},
   "outputs": [],
   "source": [
    "predicted = best.predict(X_sim_scaled)\n",
    "predicted_proba = best.predict_proba(X_sim_scaled)\n",
    "predicted_proba = np.amax(predicted_proba,1)"
   ]
  },
  {
   "cell_type": "code",
   "execution_count": 173,
   "metadata": {},
   "outputs": [],
   "source": [
    "model_results = y_sim.copy()\n",
    "model_results['predicted'] = predicted\n",
    "model_results['predicted_proba'] = predicted_proba"
   ]
  },
  {
   "cell_type": "markdown",
   "metadata": {},
   "source": [
    "Only taking trades when the model predicts either Green or Red with a probability of at least 45%."
   ]
  },
  {
   "cell_type": "code",
   "execution_count": 174,
   "metadata": {},
   "outputs": [],
   "source": [
    "trade_perf = model_results[(predicted_proba > PROB_THRESHOLD) & (predicted != 1)]\n",
    "trade_perf['long'] = trade_perf.apply(lambda x: x.predicted == 2, axis=1)\n",
    "trade_perf['ret'] = trade_perf.apply(lambda x: x.target if x.long else -x.target, axis=1)"
   ]
  },
  {
   "cell_type": "code",
   "execution_count": 175,
   "metadata": {},
   "outputs": [
    {
     "data": {
      "image/png": "[encoded data removed]",
      "text/plain": [
       "<Figure size 900x360 with 1 Axes>"
      ]
     },
     "metadata": {},
     "output_type": "display_data"
    }
   ],
   "source": [
    "data = trade_perf.resample('1W').agg({'predicted':'size'})\n",
    "data.index = data.index.tz_localize(None)\n",
    "data = data.to_period('D')\n",
    "data.plot(kind='bar', title='Number of trades taken by week')\n",
    "plt.show()"
   ]
  },
  {
   "cell_type": "markdown",
   "metadata": {},
   "source": [
    "Observed that the model initiated more trades starting late 2020 and picked up early 2021 when the cryptocurrencies are bubblish with extraordinary returns."
   ]
  },
  {
   "cell_type": "code",
   "execution_count": 176,
   "metadata": {},
   "outputs": [],
   "source": [
    "trade_perf = trade_perf.reindex(model_results.index)\n",
    "trade_perf.ret.fillna(0, inplace=True)\n",
    "trade_perf['cum_return'] = ((1 + trade_perf['ret']).cumprod()-1)"
   ]
  },
  {
   "cell_type": "markdown",
   "metadata": {},
   "source": [
    "### Performance Comparison\n",
    "\n",
    "Comparing the trading portfolio performance against the benchmark.  The benchmark in this case is the underlying cryptocurrency in which the model is to trade.  "
   ]
  },
  {
   "cell_type": "code",
   "execution_count": 177,
   "metadata": {},
   "outputs": [
    {
     "data": {
      "image/png": "[encoded data removed]",
      "text/plain": [
       "<Figure size 900x360 with 1 Axes>"
      ]
     },
     "metadata": {},
     "output_type": "display_data"
    }
   ],
   "source": [
    "fig, ax = plt.subplots()\n",
    "ax.plot(prices.close['2020':].pct_change().dropna(), label='Benchmark')\n",
    "ax.plot(trade_perf.ret, label='Portfolio')\n",
    "\n",
    "ax.legend(shadow=True)\n",
    "ax.set_xlabel('Date')\n",
    "ax.set_ylabel('Returns')\n",
    "ax.set_title('15-min Returns of Portfolio and Benchmark')\n",
    "\n",
    "plt.show()"
   ]
  },
  {
   "cell_type": "markdown",
   "metadata": {},
   "source": [
    "As expected, there are quiet periods between Mar 2020 to Nov 2020 in which the model made no trades."
   ]
  },
  {
   "cell_type": "code",
   "execution_count": 178,
   "metadata": {},
   "outputs": [
    {
     "data": {
      "image/png": "[encoded data removed]",
      "text/plain": [
       "<Figure size 900x360 with 1 Axes>"
      ]
     },
     "metadata": {},
     "output_type": "display_data"
    }
   ],
   "source": [
    "fig, ax = plt.subplots()\n",
    "ax.plot((1 + prices.close['2020':].pct_change().dropna()).cumprod()-1, label='Benchmark')\n",
    "ax.plot(trade_perf.cum_return, label='Portfolio')\n",
    "\n",
    "ax.legend(shadow=True)\n",
    "ax.set_xlabel('Date')\n",
    "ax.set_ylabel('Returns')\n",
    "ax.set_title('Cumulative Returns of Portfolio and Benchmark')\n",
    "\n",
    "plt.show()"
   ]
  },
  {
   "cell_type": "markdown",
   "metadata": {},
   "source": [
    "The model managed to catch up with the benchmark early 2021.  4-5 months after the benchmark began its appreciation.  This is understandable because the model was being trained on lagging technical indicators.  Signals triggered are delayed.  Still the portfolio managed to match the benchmark cumulative performance."
   ]
  },
  {
   "cell_type": "code",
   "execution_count": 179,
   "metadata": {},
   "outputs": [
    {
     "data": {
      "text/html": [
       "<div>\n",
       "<style scoped>\n",
       "    .dataframe tbody tr th:only-of-type {\n",
       "        vertical-align: middle;\n",
       "    }\n",
       "\n",
       "    .dataframe tbody tr th {\n",
       "        vertical-align: top;\n",
       "    }\n",
       "\n",
       "    .dataframe thead th {\n",
       "        text-align: right;\n",
       "    }\n",
       "</style>\n",
       "<table border=\"1\" class=\"dataframe\">\n",
       "  <thead>\n",
       "    <tr style=\"text-align: right;\">\n",
       "      <th></th>\n",
       "      <th>Annualized Return</th>\n",
       "      <th>Annualized Vol</th>\n",
       "      <th>Skewness</th>\n",
       "      <th>Kurtosis</th>\n",
       "      <th>Cornish-Fisher VaR (5%)</th>\n",
       "      <th>Historic CVaR (5%)</th>\n",
       "      <th>Sharpe Ratio</th>\n",
       "      <th>Max Drawdown</th>\n",
       "    </tr>\n",
       "  </thead>\n",
       "  <tbody>\n",
       "    <tr>\n",
       "      <th>Portfolio</th>\n",
       "      <td>3.316524</td>\n",
       "      <td>0.638955</td>\n",
       "      <td>20.541128</td>\n",
       "      <td>1820.253207</td>\n",
       "      <td>-0.182551</td>\n",
       "      <td>0.000171</td>\n",
       "      <td>5.058090</td>\n",
       "      <td>-0.474825</td>\n",
       "    </tr>\n",
       "    <tr>\n",
       "      <th>Benchmark</th>\n",
       "      <td>3.068476</td>\n",
       "      <td>0.779114</td>\n",
       "      <td>1.893942</td>\n",
       "      <td>190.818108</td>\n",
       "      <td>-0.012606</td>\n",
       "      <td>0.010371</td>\n",
       "      <td>3.836029</td>\n",
       "      <td>-0.629869</td>\n",
       "    </tr>\n",
       "  </tbody>\n",
       "</table>\n",
       "</div>"
      ],
      "text/plain": [
       "           Annualized Return  Annualized Vol   Skewness     Kurtosis  \\\n",
       "Portfolio           3.316524        0.638955  20.541128  1820.253207   \n",
       "Benchmark           3.068476        0.779114   1.893942   190.818108   \n",
       "\n",
       "           Cornish-Fisher VaR (5%)  Historic CVaR (5%)  Sharpe Ratio  \\\n",
       "Portfolio                -0.182551            0.000171      5.058090   \n",
       "Benchmark                -0.012606            0.010371      3.836029   \n",
       "\n",
       "           Max Drawdown  \n",
       "Portfolio     -0.474825  \n",
       "Benchmark     -0.629869  "
      ]
     },
     "execution_count": 179,
     "metadata": {},
     "output_type": "execute_result"
    }
   ],
   "source": [
    "portf_bmk = prices.close['2020':].pct_change().dropna().to_frame()\n",
    "portf_bmk = portf_bmk.join(trade_perf.ret)\n",
    "portf_bmk.columns = ['Benchmark','Portfolio']\n",
    "portf_bmk.dropna(inplace=True)\n",
    "\n",
    "RISK_FREE_RATE = 0.02\n",
    "PERIODS_PER_YEAR = 4 * 24 * (252+52)\n",
    "\n",
    "erk.summary_stats(portf_bmk, riskfree_rate=RISK_FREE_RATE, periods_per_year=PERIODS_PER_YEAR).sort_values('Sharpe Ratio', ascending=False)"
   ]
  },
  {
   "cell_type": "markdown",
   "metadata": {},
   "source": [
    "The trading portfolio has a better Sharpe Ratio than the Benchmark.  Better annualised return and lower annaulised volatility.  Thee VaR is higher because the return distribution is very skewed with extremely high and low returns.  Portfolio returns are mostly 0 because there are no trades done and each trade is closed after 1 hour.  Portfolio maximum drawdown is 47% as compared the benchmark's at 62%."
   ]
  },
  {
   "cell_type": "code",
   "execution_count": 180,
   "metadata": {},
   "outputs": [
    {
     "data": {
      "text/html": [
       "<div>\n",
       "<style scoped>\n",
       "    .dataframe tbody tr th:only-of-type {\n",
       "        vertical-align: middle;\n",
       "    }\n",
       "\n",
       "    .dataframe tbody tr th {\n",
       "        vertical-align: top;\n",
       "    }\n",
       "\n",
       "    .dataframe thead th {\n",
       "        text-align: right;\n",
       "    }\n",
       "</style>\n",
       "<table border=\"1\" class=\"dataframe\">\n",
       "  <thead>\n",
       "    <tr style=\"text-align: right;\">\n",
       "      <th></th>\n",
       "      <th>target_range</th>\n",
       "      <th>target</th>\n",
       "      <th>predicted</th>\n",
       "      <th>predicted_proba</th>\n",
       "      <th>long</th>\n",
       "      <th>ret</th>\n",
       "      <th>cum_return</th>\n",
       "    </tr>\n",
       "    <tr>\n",
       "      <th>timestamp</th>\n",
       "      <th></th>\n",
       "      <th></th>\n",
       "      <th></th>\n",
       "      <th></th>\n",
       "      <th></th>\n",
       "      <th></th>\n",
       "      <th></th>\n",
       "    </tr>\n",
       "  </thead>\n",
       "  <tbody>\n",
       "    <tr>\n",
       "      <th>2020-03-12 18:45:00+08:00</th>\n",
       "      <td>1</td>\n",
       "      <td>0.008663</td>\n",
       "      <td>2.0</td>\n",
       "      <td>0.515136</td>\n",
       "      <td>True</td>\n",
       "      <td>0.008663</td>\n",
       "      <td>0.008663</td>\n",
       "    </tr>\n",
       "    <tr>\n",
       "      <th>2020-03-12 19:00:00+08:00</th>\n",
       "      <td>1</td>\n",
       "      <td>-0.013664</td>\n",
       "      <td>2.0</td>\n",
       "      <td>0.486059</td>\n",
       "      <td>True</td>\n",
       "      <td>-0.013664</td>\n",
       "      <td>-0.005118</td>\n",
       "    </tr>\n",
       "    <tr>\n",
       "      <th>2020-03-12 19:15:00+08:00</th>\n",
       "      <td>0</td>\n",
       "      <td>-0.015907</td>\n",
       "      <td>2.0</td>\n",
       "      <td>0.563660</td>\n",
       "      <td>True</td>\n",
       "      <td>-0.015907</td>\n",
       "      <td>-0.020944</td>\n",
       "    </tr>\n",
       "    <tr>\n",
       "      <th>2020-03-12 19:30:00+08:00</th>\n",
       "      <td>2</td>\n",
       "      <td>0.040759</td>\n",
       "      <td>2.0</td>\n",
       "      <td>0.508430</td>\n",
       "      <td>True</td>\n",
       "      <td>0.040759</td>\n",
       "      <td>0.018961</td>\n",
       "    </tr>\n",
       "    <tr>\n",
       "      <th>2020-03-12 20:00:00+08:00</th>\n",
       "      <td>0</td>\n",
       "      <td>-0.025972</td>\n",
       "      <td>2.0</td>\n",
       "      <td>0.509356</td>\n",
       "      <td>True</td>\n",
       "      <td>-0.025972</td>\n",
       "      <td>-0.007504</td>\n",
       "    </tr>\n",
       "    <tr>\n",
       "      <th>...</th>\n",
       "      <td>...</td>\n",
       "      <td>...</td>\n",
       "      <td>...</td>\n",
       "      <td>...</td>\n",
       "      <td>...</td>\n",
       "      <td>...</td>\n",
       "      <td>...</td>\n",
       "    </tr>\n",
       "    <tr>\n",
       "      <th>2021-04-01 01:30:00+08:00</th>\n",
       "      <td>1</td>\n",
       "      <td>0.002938</td>\n",
       "      <td>0.0</td>\n",
       "      <td>0.457882</td>\n",
       "      <td>False</td>\n",
       "      <td>-0.002938</td>\n",
       "      <td>7.822713</td>\n",
       "    </tr>\n",
       "    <tr>\n",
       "      <th>2021-04-01 03:00:00+08:00</th>\n",
       "      <td>0</td>\n",
       "      <td>-0.016879</td>\n",
       "      <td>0.0</td>\n",
       "      <td>0.469774</td>\n",
       "      <td>False</td>\n",
       "      <td>0.016879</td>\n",
       "      <td>7.971633</td>\n",
       "    </tr>\n",
       "    <tr>\n",
       "      <th>2021-04-01 03:15:00+08:00</th>\n",
       "      <td>1</td>\n",
       "      <td>-0.008699</td>\n",
       "      <td>0.0</td>\n",
       "      <td>0.451981</td>\n",
       "      <td>False</td>\n",
       "      <td>0.008699</td>\n",
       "      <td>8.049676</td>\n",
       "    </tr>\n",
       "    <tr>\n",
       "      <th>2021-04-01 09:45:00+08:00</th>\n",
       "      <td>1</td>\n",
       "      <td>-0.000959</td>\n",
       "      <td>2.0</td>\n",
       "      <td>0.452903</td>\n",
       "      <td>True</td>\n",
       "      <td>-0.000959</td>\n",
       "      <td>8.040995</td>\n",
       "    </tr>\n",
       "    <tr>\n",
       "      <th>2021-04-02 12:45:00+08:00</th>\n",
       "      <td>1</td>\n",
       "      <td>-0.000125</td>\n",
       "      <td>0.0</td>\n",
       "      <td>0.455191</td>\n",
       "      <td>False</td>\n",
       "      <td>0.000125</td>\n",
       "      <td>8.042123</td>\n",
       "    </tr>\n",
       "  </tbody>\n",
       "</table>\n",
       "<p>1529 rows × 7 columns</p>\n",
       "</div>"
      ],
      "text/plain": [
       "                          target_range    target  predicted  predicted_proba  \\\n",
       "timestamp                                                                      \n",
       "2020-03-12 18:45:00+08:00            1  0.008663        2.0         0.515136   \n",
       "2020-03-12 19:00:00+08:00            1 -0.013664        2.0         0.486059   \n",
       "2020-03-12 19:15:00+08:00            0 -0.015907        2.0         0.563660   \n",
       "2020-03-12 19:30:00+08:00            2  0.040759        2.0         0.508430   \n",
       "2020-03-12 20:00:00+08:00            0 -0.025972        2.0         0.509356   \n",
       "...                                ...       ...        ...              ...   \n",
       "2021-04-01 01:30:00+08:00            1  0.002938        0.0         0.457882   \n",
       "2021-04-01 03:00:00+08:00            0 -0.016879        0.0         0.469774   \n",
       "2021-04-01 03:15:00+08:00            1 -0.008699        0.0         0.451981   \n",
       "2021-04-01 09:45:00+08:00            1 -0.000959        2.0         0.452903   \n",
       "2021-04-02 12:45:00+08:00            1 -0.000125        0.0         0.455191   \n",
       "\n",
       "                            long       ret  cum_return  \n",
       "timestamp                                               \n",
       "2020-03-12 18:45:00+08:00   True  0.008663    0.008663  \n",
       "2020-03-12 19:00:00+08:00   True -0.013664   -0.005118  \n",
       "2020-03-12 19:15:00+08:00   True -0.015907   -0.020944  \n",
       "2020-03-12 19:30:00+08:00   True  0.040759    0.018961  \n",
       "2020-03-12 20:00:00+08:00   True -0.025972   -0.007504  \n",
       "...                          ...       ...         ...  \n",
       "2021-04-01 01:30:00+08:00  False -0.002938    7.822713  \n",
       "2021-04-01 03:00:00+08:00  False  0.016879    7.971633  \n",
       "2021-04-01 03:15:00+08:00  False  0.008699    8.049676  \n",
       "2021-04-01 09:45:00+08:00   True -0.000959    8.040995  \n",
       "2021-04-02 12:45:00+08:00  False  0.000125    8.042123  \n",
       "\n",
       "[1529 rows x 7 columns]"
      ]
     },
     "execution_count": 180,
     "metadata": {},
     "output_type": "execute_result"
    }
   ],
   "source": [
    "trade_perf[~trade_perf.long.isnull()]"
   ]
  },
  {
   "cell_type": "markdown",
   "metadata": {},
   "source": [
    "## Concluding Remarks\n",
    "\n",
    "1.  This is a trade-on-signal and hold for 1 hour strategy.  It is possible that the price moves significantly against you during the 1 hour when you are in position.  The position may wipe out your account completely.  Hence, one should consider some form of guaranteed stop-loss to protect your account.  \n",
    "2.  This analysis focus on just one cryptocurrency.  One can create a portfolio of cryptocurrencies trading similar strategy for diversification purpose.\n",
    "3.  The machine learning model should be retrained on regular intervals based on latest data to capture the latest events observable in the market and price movements.\n",
    "4.  The machine learning model is trained on periods in which the trading instrument is experiencing much lower volatility as compared the periods used for forward testing.  In short, these 2 periods belong to different price regimes.  Good to explore this strategy with other instruments.\n",
    "5.  While the model is making a prediction on the 1-hour forward target range, the trading portfolio performance is based more on whether the trade is correct in its direction and making a positive return.  Hence, in reality, if the model is able to recommend a trade that makes a correct directional bet consistantly, then the model's recommendation is useful for making trading decision.\n",
    "\n",
    "\n",
    "## Future Work\n",
    "\n",
    "1.  Use 1 min instead of 15 min data\n",
    "2.  Include more Machine Learning or Deep Learning models\n",
    "3.  Include more technical indicators\n",
    "4.  Include Feature-engineered indicators like cross-overs\n",
    "5.  Try and assess the performance on different instruments"
   ]
  },
  {
   "cell_type": "code",
   "execution_count": null,
   "metadata": {},
   "outputs": [],
   "source": []
  }
 ],
 "metadata": {
  "kernelspec": {
   "display_name": "Python 3",
   "language": "python",
   "name": "python3"
  },
  "language_info": {
   "codemirror_mode": {
    "name": "ipython",
    "version": 3
   },
   "file_extension": ".py",
   "mimetype": "text/x-python",
   "name": "python",
   "nbconvert_exporter": "python",
   "pygments_lexer": "ipython3",
   "version": "3.8.3"
  }
 },
 "nbformat": 4,
 "nbformat_minor": 4
}
